{
 "cells": [
  {
   "cell_type": "markdown",
   "metadata": {},
   "source": [
    "# Criando a Conexão com o Servidor e instalação da biblioteca"
   ]
  },
  {
   "cell_type": "code",
   "execution_count": null,
   "metadata": {},
   "outputs": [],
   "source": [
    "#!pip install psycopg2\n",
    "db_host = \"localhost\"\n",
    "db_name = \"booking\"\n",
    "db_user = \"postgres\"\n",
    "db_password = \"postgres\""
   ]
  },
  {
   "cell_type": "code",
   "execution_count": null,
   "metadata": {},
   "outputs": [],
   "source": [
    "#!pip install psycopg2\n",
    "import psycopg2\n",
    "conn = psycopg2.connect(dbname=db_name, user=db_user, password=db_password, host=db_host)\n",
    "cur = conn.cursor()"
   ]
  },
  {
   "cell_type": "markdown",
   "metadata": {},
   "source": [
    "# Criação dos Schemas do Banco de Dados"
   ]
  },
  {
   "cell_type": "code",
   "execution_count": null,
   "metadata": {},
   "outputs": [],
   "source": [
    "\n",
    "#cur.execute(\"create schema hotel\")\n",
    "#cur.execute(\"create schema cliente\")\n",
    "#cur.execute(\"create schema quarto\")\n",
    "#cur.execute(\"create schema reserva\")\n",
    "#cur.execute(\"create schema pesquisa\")\n",
    "#cur.execute(\"create schema endereco\")\n",
    "#cur.execute(\"create schema telefone\")\n",
    "\n",
    "data_cadastro timestamp default date_trunc('sec',timestamp 'now()') returna a data atual e horario\n"
   ]
  },
  {
   "cell_type": "markdown",
   "metadata": {},
   "source": [
    "# Criação das tabelas"
   ]
  },
  {
   "cell_type": "code",
   "execution_count": null,
   "metadata": {},
   "outputs": [],
   "source": [
    "#cur.execute(\"create table hotel.tb_hotel(id serial primary key, nome varchar(100), email varchar(100))\")\n",
    "cur = conn.cursor()\n",
    "cur.execute( '''create table quarto.tb_quarto (id serial primary key,\n",
    "            nome varchar(100),\n",
    "            valor numeric(10,2),\n",
    "            nota numeric(2),\n",
    "            descricao varchar(250),\n",
    "            n_hospedes int)''')\n",
    "conn.commit()\n"
   ]
  },
  {
   "cell_type": "code",
   "execution_count": null,
   "metadata": {},
   "outputs": [],
   "source": [
    "cur = conn.cursor()\n",
    "cur.execute( '''create table cliente.tb_cliente (id_cliente serial primary key,\n",
    "            nome varchar(100),\n",
    "            data_nascimento date,\n",
    "            cpf varchar(14),\n",
    "            fk_telefone int,\n",
    "            fk_endereco int,\n",
    "            sexo char(1) check(sexo in('M','F'),\n",
    "            email varchar(50))''')\n",
    "conn.commit()"
   ]
  },
  {
   "cell_type": "code",
   "execution_count": null,
   "metadata": {},
   "outputs": [],
   "source": [
    "cur = conn.cursor()\n",
    "cur.execute(\"alter table cliente.tb_cliente add column data_cadastro timestamp default date_trunc('sec',timestamp 'now()')\")\n",
    "conn.commit()"
   ]
  },
  {
   "cell_type": "code",
   "execution_count": null,
   "metadata": {},
   "outputs": [],
   "source": [
    "cur=conn.cursor()\n",
    "cur.execute('''create table hotel.tb_hotel(id_hotel serial primary key,\n",
    "            nome varchar(100),\n",
    "            email varchar(100),\n",
    "            fk_endereco varchar(100),\n",
    "            fk_telefone varchar(15))''')\n",
    "\n",
    "conn.commit()"
   ]
  },
  {
   "cell_type": "code",
   "execution_count": null,
   "metadata": {},
   "outputs": [],
   "source": [
    "cur=conn.cursor()\n",
    "cur.execute('''create table reserva.tb_reserva(\n",
    "           id_reserva serial primary key,\n",
    "           fk_id_quarto int,\n",
    "           nome_quarto varchar(100),\n",
    "           fk_id_cliente int,\n",
    "           nome_cliente varchar(100),\n",
    "           dias int,\n",
    "           descricao_quarto text,\n",
    "           data_entrada date,\n",
    "           data_saida date,\n",
    "           valor_quarto numeric(10,2),\n",
    "           desconto numeric(10,2)\n",
    "           )''')\n",
    "conn.commit()\n"
   ]
  },
  {
   "cell_type": "code",
   "execution_count": null,
   "metadata": {},
   "outputs": [],
   "source": [
    "cur=conn.cursor()\n",
    "cur.execute('''create table endereco.tb_endereco(id_endereco serial primary key, \n",
    "            Logradouro varchar(50),\n",
    "            numero int,\n",
    "            bairro varchar(50),\n",
    "            Cidade varchar(50),\n",
    "            estabelecimento varchar(7)check(estabelecimento in('Hotel','Cliente')))''')\n",
    "conn.commit()"
   ]
  },
  {
   "cell_type": "code",
   "execution_count": null,
   "metadata": {},
   "outputs": [],
   "source": [
    "cur=conn.cursor()\n",
    "cur.execute('''create table telefone.tb_telefone(id_telefone serial primary key, \n",
    "            Telefone varchar(15),\n",
    "            tipo_telefone char(3)check(tipo_telefone in('Cel','Com','Res')))''')\n",
    "conn.commit()"
   ]
  },
  {
   "cell_type": "markdown",
   "metadata": {},
   "source": [
    "# Criação das Funções"
   ]
  },
  {
   "cell_type": "code",
   "execution_count": null,
   "metadata": {},
   "outputs": [],
   "source": [
    "def add_endereco():\n",
    "    cur=conn.cursor()\n",
    "    logradouro = input(\"Logradouro:\")\n",
    "    n_endereco = int(input(\"Nº:\"))\n",
    "    bairro = input(\"Bairro:\")\n",
    "    cidade = input(\"Cidade:\")\n",
    "    estabelecimento = input(\"Tipo do estabelecimento(Hotel/Cliente):\")\n",
    "    \n",
    "    insert_endereco = f'''insert into endereco.tb_endereco (logradouro,numero,bairro,cidade,estabelecimento)\n",
    "    values('{logradouro}','{n_endereco}','{bairro}','{cidade}','{estabelecimento}')'''\n",
    "    cur.execute(insert_endereco)\n",
    "    conn.commit()\n",
    "    cur.close()"
   ]
  },
  {
   "cell_type": "code",
   "execution_count": null,
   "metadata": {},
   "outputs": [],
   "source": [
    "def add_telefone():\n",
    "    cur=conn.cursor()\n",
    "    telefone = input(\"Telefone(xx xxxxx-xxxx):\")\n",
    "    tipo_telefone = input(\"Tipo de telefone(Cel,Res,Com):\")\n",
    "    \n",
    "    insert_telefone = f'''insert into telefone.tb_telefone(telefone, tipo_telefone) \n",
    "    values('{telefone}','{tipo_telefone}')'''\n",
    "    cur.execute(insert_telefone)\n",
    "    conn.commit()\n",
    "    print(cur.rowcount, \"Registro salvo\")\n",
    "    cur.close()"
   ]
  },
  {
   "cell_type": "code",
   "execution_count": null,
   "metadata": {},
   "outputs": [],
   "source": [
    "nome_cliente = input(\"Nome: \")\n",
    "data_nascimento = input(\"Data nascimento:(aaaa-mm-dd)\")\n",
    "cpf_cliente = (input(\"cpf:\"))\n",
    "fk_telefone_cliente = int(input(\"ID do telefone:\"))\n",
    "fk_endereco_cliente = int(input(\"ID do endereco:\"))\n",
    "sexo = input(\"Sexo(M/F):\")\n",
    "email_cliente = input(\"E-mail: \")\n",
    "\n",
    "insert_cliente = f'''insert into cliente.tb_cliente (nome, data_nascimento, cpf, fk_telefone, fk_endereco, sexo, email)\n",
    "        values('{nome_cliente}','{data_nascimento}','{cpf_cliente}','{fk_telefone_cliente}','{fk_endereco_cliente}','{sexo}','{email_cliente}')'''\n",
    "cur.execute(insert_cliente)\n",
    "conn.commit()\n",
    "print(cur.rowcount, \"Registro salvo\")\n",
    "cur.close()\n"
   ]
  },
  {
   "cell_type": "code",
   "execution_count": null,
   "metadata": {},
   "outputs": [],
   "source": [
    "def add_cliente():\n",
    "    nome_cliente = input(\"Nome: \")\n",
    "    data_nascimento = input(\"Data nascimento:(aaaa-mm-dd)\")\n",
    "    cpf_cliente = (input(\"cpf:\"))\n",
    "    fk_telefone = int(input(\"ID do telefone:\"))\n",
    "    fk_endereco = int(input(\"ID do endereco:\"))\n",
    "    sexo = input(\"Sexo(M/F):\")\n",
    "    email_cliente = input(\"E-mail: \")\n",
    "    \n",
    "    cur=conn.cursor()\n",
    "    insert_cliente = f'''insert into cliente.tb_cliente (nome, data_nascimento, cpf, fk_telefone, fk_endereco, sexo, email)\n",
    "            values('{nome_cliente}','{data_nascimento}','{cpf_cliente}','{fk_telefone}','{fk_endereco}','{sexo}','{email_cliente}')'''\n",
    "    cur.execute(insert_cliente)\n",
    "    conn.commit()\n",
    "    #print(cur.rowcount, \"Registro salvo\")\n",
    "    #cur.close()\n"
   ]
  },
  {
   "cell_type": "code",
   "execution_count": null,
   "metadata": {},
   "outputs": [],
   "source": [
    "nome_quarto = input(\"Nome: \")\n",
    "valor_quarto = float(input(\"Valor do quarto: \"))\n",
    "descricao_quarto = input(\"Descrição: \")\n",
    "n_hospedes_quarto = int(input(\"Capcacidade de hopedes:\"))\n",
    "\n",
    "cur=conn.cursor()\n",
    "insert_quarto = f'''insert into quarto.tb_quarto (nome, valor, descricao, n_hospedes)\n",
    "                values('{nome_quarto}','{valor_quarto}','{descricao_quarto}','{n_hospedes_quarto}')'''\n",
    "cur.execute(insert_quarto)\n",
    "conn.commit()\n"
   ]
  },
  {
   "cell_type": "code",
   "execution_count": null,
   "metadata": {},
   "outputs": [],
   "source": [
    "nome_hotel = input(\"Nome: \")\n",
    "email_hotel = (input(\"E-mail: \"))\n",
    "fk_endereco_hotel = input(\"ID do endereço: \")\n",
    "fk_telefone_hotel = (input(\"ID do telefone:\"))\n",
    "\n",
    "cur=conn.cursor()\n",
    "insert_hotel = f'''insert into hotel.tb_hotel (nome, email, fk_endereco, fk_telefone)\n",
    "                values('{nome_hotel}','{email_hotel}','{fk_endereco_hotel}','{fk_telefone_hotel}')'''\n",
    "cur.execute(insert_hotel)\n",
    "conn.commit()\n",
    "print(cur.rowcount, \"Registro salvo\")\n",
    "cur.close()"
   ]
  },
  {
   "cell_type": "code",
   "execution_count": null,
   "metadata": {},
   "outputs": [],
   "source": [
    "cur=conn.cursor()\n",
    "cur.execute(\"select * from cliente.tb_cliente\")\n",
    "conn.commit()\n",
    "for i in cur:\n",
    "    print(i)\n",
    "    "
   ]
  },
  {
   "cell_type": "code",
   "execution_count": null,
   "metadata": {},
   "outputs": [],
   "source": [
    "def cadastro_cliente():\n",
    "    nome_cliente = input(\"Nome: \")\n",
    "data_nascimento = input(\"Data nascimento:(aaaa-mm-dd)\")\n",
    "cpf_cliente = (input(\"cpf:\"))\n",
    "fk_telefone = int(input(\"ID do telefone:\"))\n",
    "fk_endereco = int(input(\"ID do endereco:\"))\n",
    "sexo = input(\"Sexo(M/F):\")\n",
    "email_cliente = input(\"E-mail: \")\n",
    "\n",
    "insert_cliente = f'''insert into cliente.tb_cliente (nome, data_nascimento, cpf, fk_telefone, fk_endereco, sexo, email)\n",
    "        values('{nome_cliente}','{data_nascimento}','{cpf_cliente}','{fk_telefone}','{fk_endereco}','{sexo}','{email_cliente}')'''\n",
    "cur.execute(insert_cliente)\n",
    "conn.commit()\n",
    "print(cur.rowcount, \"Registro salvo\")\n",
    "cur.close()"
   ]
  },
  {
   "cell_type": "code",
   "execution_count": null,
   "metadata": {},
   "outputs": [],
   "source": [
    "from IPython.display import clear_output #biblioteca para limpar a tela\n",
    "print(\"\\t MENU\")\n",
    "print(\"1 - Cadastro\")\n",
    "print(\"2 - Atualização de cadastro\")\n",
    "print(\"3 - Deletar cadastro\")\n",
    "print(\"4 - Fazer reserva\")\n",
    "print(\"5 - Visualizar reservas\")\n",
    "op = int(input())\n",
    "clear_output(wait=True)\n",
    "\n",
    "if op == 1:\n",
    "    print(\"\\t CADASTRO\")\n",
    "    print(\"1 - Cliente\")\n",
    "    print(\"1 - Telefone\")\n",
    "    print(\"3 - Endereço\")\n",
    "    print(\"4 - Quarto\")\n",
    "    print(\"5 - Hotel\")\n",
    "    op = int(input())\n",
    "    clear_output(wait=True)\n",
    "\n",
    "    if op ==1:\n",
    "        print(\"Cadastro de Cliente\")\n",
    "        add_cliente()\n",
    "        print(cur.rowcount, \"\\nRegistro salvo\")\n",
    "        cur.close()\n",
    "    if op ==2:\n",
    "        print(\"Cadastro de Telefone\")\n",
    "        add_telefone()\n",
    "        print(cur.rowcount, \"\\nRegistro salvo\")\n",
    "        cur.close()\n",
    "    if op ==3:\n",
    "        print(\"Cadastro de Endereço\")\n",
    "        add_endereco()\n",
    "        print(cur.rowcount, \"\\nRegistro salvo\")\n",
    "        cur.close()"
   ]
  },
  {
   "cell_type": "code",
   "execution_count": null,
   "metadata": {},
   "outputs": [],
   "source": []
  }
 ],
 "metadata": {
  "kernelspec": {
   "display_name": "Python 3",
   "language": "python",
   "name": "python3"
  },
  "language_info": {
   "codemirror_mode": {
    "name": "ipython",
    "version": 3
   },
   "file_extension": ".py",
   "mimetype": "text/x-python",
   "name": "python",
   "nbconvert_exporter": "python",
   "pygments_lexer": "ipython3",
   "version": "3.7.6"
  }
 },
 "nbformat": 4,
 "nbformat_minor": 4
}
